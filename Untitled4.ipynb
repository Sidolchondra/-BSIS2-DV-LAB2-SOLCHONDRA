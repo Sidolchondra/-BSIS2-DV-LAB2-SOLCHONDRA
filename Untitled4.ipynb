{
  "nbformat": 4,
  "nbformat_minor": 0,
  "metadata": {
    "colab": {
      "provenance": [],
      "authorship_tag": "ABX9TyOZKSaeaIi2P3FXRRVzdJ1K",
      "include_colab_link": true
    },
    "kernelspec": {
      "name": "python3",
      "display_name": "Python 3"
    },
    "language_info": {
      "name": "python"
    }
  },
  "cells": [
    {
      "cell_type": "markdown",
      "metadata": {
        "id": "view-in-github",
        "colab_type": "text"
      },
      "source": [
        "<a href=\"https://colab.research.google.com/github/Sidolchondra/-BSIS2-DV-LAB2-SOLCHONDRA/blob/main/Untitled4.ipynb\" target=\"_parent\"><img src=\"https://colab.research.google.com/assets/colab-badge.svg\" alt=\"Open In Colab\"/></a>"
      ]
    },
    {
      "cell_type": "code",
      "execution_count": null,
      "metadata": {
        "colab": {
          "base_uri": "https://localhost:8080/"
        },
        "id": "HVTRDOXZyUFx",
        "outputId": "3f721619-0b7c-4535-a75f-127831e0398c"
      },
      "outputs": [
        {
          "output_type": "stream",
          "name": "stdout",
          "text": [
            "[3, 7, 4, 2]\n",
            "[3, True, 'Sidrick', 2.0]\n",
            "[3, 7, 4, 2]\n",
            "[3, 7, 4, 2]\n",
            "[3, 7]\n"
          ]
        },
        {
          "output_type": "execute_result",
          "data": {
            "text/plain": [
              "[7, 4, 2]"
            ]
          },
          "metadata": {},
          "execution_count": 1
        }
      ],
      "source": [
        "# Define a list \n",
        "z = [3, 7, 4, 2]\n",
        "print(z)\n",
        "# Define a list\n",
        "heterogenousElements = [3, True, 'Sidrick', 2.0]\n",
        "print(heterogenousElements)\n",
        "# Access the first item of a list at index 0 \n",
        "z [0]\n",
        "print(z)\n",
        "z[-1]\n",
        "print(z)\n",
        "print(z [0:2])\n",
        "z [:3]\n",
        "z [1:]"
      ]
    },
    {
      "cell_type": "code",
      "source": [],
      "metadata": {
        "id": "IjmDmWc_RAtx"
      },
      "execution_count": null,
      "outputs": []
    },
    {
      "cell_type": "markdown",
      "source": [],
      "metadata": {
        "id": "awnI2u6GRBSj"
      }
    },
    {
      "cell_type": "code",
      "source": [],
      "metadata": {
        "id": "INvwapgHRF73"
      },
      "execution_count": null,
      "outputs": []
    },
    {
      "cell_type": "code",
      "source": [
        "\n",
        "# Define a list \n",
        "z = [3, 7, 4, 2]\n",
        "print(z) \n",
        "# Define a list\n",
        "heterogenousElements = [3, True, 'SIDRICK', 2.0]\n",
        "print(heterogenousElements)\n",
        "# Access the first item of a list at index 0 \n",
        "z [0]\n",
        "print(z)\n",
        "z[-1]\n",
        "print(z)\n",
        "print(z [0:2])\n",
        "z [:3]\n",
        "z [1:]"
      ],
      "metadata": {
        "colab": {
          "base_uri": "https://localhost:8080/"
        },
        "id": "2PCOUOXIcEHc",
        "outputId": "2c503669-b526-4758-db3b-590bfa60d5e3"
      },
      "execution_count": null,
      "outputs": [
        {
          "output_type": "stream",
          "name": "stdout",
          "text": [
            "[3, 7, 4, 2]\n",
            "[3, True, 'SIDRICK', 2.0]\n",
            "[3, 7, 4, 2]\n",
            "[3, 7, 4, 2]\n",
            "[3, 7]\n"
          ]
        },
        {
          "output_type": "execute_result",
          "data": {
            "text/plain": [
              "[7, 4, 2]"
            ]
          },
          "metadata": {},
          "execution_count": 2
        }
      ]
    },
    {
      "cell_type": "code",
      "source": [
        "print('Enter the first number:') x = float(input()) print('Enter the second number:') y = float(input())\n",
        "\n",
        "sumxy = (x) + (y) diffxy = (x) - (y) prodxy = (x) * (y) quoxy = (x) / (y) expoxy = (x) ** (y) divxy = (x) // (y) remaxy = (x) % (y)\n",
        "\n",
        "print('Sum:', x, '+', y, '=', sumxy) print('Difference:', x, '-', y, '=', diffxy) print('Product:', x, '*', y, '=', prodxy) print('Quotient:', x, '/', y, '=', quoxy) print('Power:', x, '^', y, '=', expoxy) print('Division with remainder:', x, '/', y, '=', divxy) print('Remainder:', remaxy)"
      ],
      "metadata": {
        "colab": {
          "base_uri": "https://localhost:8080/",
          "height": 218
        },
        "id": "nAPHgZAxc9k5",
        "outputId": "5ffd7808-11e0-4e24-93ee-41390cdcadcb"
      },
      "execution_count": null,
      "outputs": [
        {
          "output_type": "error",
          "ename": "SyntaxError",
          "evalue": "ignored",
          "traceback": [
            "\u001b[0;36m  File \u001b[0;32m\"<ipython-input-4-407f367902e6>\"\u001b[0;36m, line \u001b[0;32m1\u001b[0m\n\u001b[0;31m    print('Enter the first number:') x = float(input()) print('Enter the second number:') y = float(input())\u001b[0m\n\u001b[0m                                     ^\u001b[0m\n\u001b[0;31mSyntaxError\u001b[0m\u001b[0;31m:\u001b[0m invalid syntax\n"
          ]
        }
      ]
    },
    {
      "cell_type": "code",
      "source": [
        "Hello! Please enter your name: Sidrick\n",
        "Enter your age: 19\n",
        "Enter your weight (in kg): 50\n",
        "Enter your height (in cm): 160\n",
        "\n",
        "Sidrick, based on the information you provided:\n",
        "- Age: 19  years old\n",
        "- Weight: 50.0  kg\n",
        "- Height: 0.9411764705882353 cm\n",
        "Your BMI is: 56.45\n",
        "Your BMI falls under the category of normal weight."
      ],
      "metadata": {
        "id": "QXwL39lmeFgS",
        "outputId": "56acab99-b4f9-4b90-e6ff-1c383c7f3fe1",
        "colab": {
          "base_uri": "https://localhost:8080/",
          "height": 166
        }
      },
      "execution_count": null,
      "outputs": [
        {
          "output_type": "error",
          "ename": "SyntaxError",
          "evalue": "ignored",
          "traceback": [
            "\u001b[0;36m  File \u001b[0;32m\"<ipython-input-6-762720898aca>\"\u001b[0;36m, line \u001b[0;32m1\u001b[0m\n\u001b[0;31m    Hello! Please enter your name: Sidrick\u001b[0m\n\u001b[0m         ^\u001b[0m\n\u001b[0;31mSyntaxError\u001b[0m\u001b[0;31m:\u001b[0m invalid syntax\n"
          ]
        }
      ]
    },
    {
      "cell_type": "code",
      "source": [
        "print('Enter the first number:') x = float(input()) print('Enter the second number:') y = float(input())\n",
        "\n",
        "sumxy = (x) + (y) diffxy = (x) - (y) prodxy = (x) * (y) quoxy = (x) / (y) expoxy = (x) ** (y) divxy = (x) // (y) remaxy = (x) % (y)\n",
        "\n",
        "print('Sum:', x, '+', y, '=', sumxy) print('Difference:', x, '-', y, '=', diffxy) print('Product:', x, '*', y, '=', prodxy) print('Quotient:', x, '/', y, '=', quoxy) print('Power:', x, '^', y, '=', expoxy) print('Division with remainder:', x, '/', y, '=', divxy) print('Remainder:', remaxy)"
      ],
      "metadata": {
        "colab": {
          "base_uri": "https://localhost:8080/",
          "height": 218
        },
        "id": "NGXwM9rAdcP-",
        "outputId": "755d5db4-7fc9-4eac-a248-c071b38da2fb"
      },
      "execution_count": null,
      "outputs": [
        {
          "output_type": "error",
          "ename": "SyntaxError",
          "evalue": "ignored",
          "traceback": [
            "\u001b[0;36m  File \u001b[0;32m\"<ipython-input-5-407f367902e6>\"\u001b[0;36m, line \u001b[0;32m1\u001b[0m\n\u001b[0;31m    print('Enter the first number:') x = float(input()) print('Enter the second number:') y = float(input())\u001b[0m\n\u001b[0m                                     ^\u001b[0m\n\u001b[0;31mSyntaxError\u001b[0m\u001b[0;31m:\u001b[0m invalid syntax\n"
          ]
        }
      ]
    }
  ]
}